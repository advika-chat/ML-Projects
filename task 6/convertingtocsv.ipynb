{
 "cells": [
  {
   "cell_type": "code",
   "execution_count": 5,
   "metadata": {},
   "outputs": [],
   "source": [
    "import numpy as np\n",
    "import pandas as pd\n",
    "import struct"
   ]
  },
  {
   "cell_type": "code",
   "execution_count": 6,
   "metadata": {},
   "outputs": [],
   "source": [
    "def load_images(filename):\n",
    "    with open(filename, 'rb') as f:\n",
    "        magic, num, rows, cols = struct.unpack('>IIII', f.read(16))\n",
    "        images = np.fromfile(f, dtype=np.uint8).reshape(num, rows * cols)\n",
    "    return images\n",
    "\n",
    "def load_labels(filename):\n",
    "    with open(filename, 'rb') as f:\n",
    "        magic, num = struct.unpack('>II', f.read(8))\n",
    "        labels = np.fromfile(f, dtype=np.uint8)\n",
    "    return labels\n",
    "\n",
    "# Paths to your .idx1-ubyte and .idx3-ubyte files\n",
    "images_path = \"D:/Code/RUGVED/task 6/t10k-images.idx3-ubyte\"\n",
    "labels_path = \"D:/Code/RUGVED/task 6/t10k-labels.idx1-ubyte\"\n",
    "test_images_path = \"D:/Code/RUGVED/task 6/train-images.idx3-ubyte\"\n",
    "test_labels_path = \"D:/Code/RUGVED/task 6/train-labels.idx1-ubyte\"\n",
    "\n",
    "# Load data\n",
    "train_images = load_images(images_path)\n",
    "train_labels = load_labels(labels_path)\n",
    "test_images = load_images(test_images_path)\n",
    "test_labels = load_labels(test_labels_path)\n",
    "\n",
    "# Combine images and labels into DataFrames\n",
    "train_df = pd.DataFrame(train_images)\n",
    "train_df.insert(0, 'label', train_labels)\n",
    "\n",
    "test_df = pd.DataFrame(test_images)\n",
    "test_df.insert(0, 'label', test_labels)\n",
    "\n",
    "# Save DataFrames to CSV\n",
    "train_df.to_csv('train.csv', index=False)\n",
    "test_df.to_csv('test.csv', index=False)"
   ]
  }
 ],
 "metadata": {
  "kernelspec": {
   "display_name": "Python 3",
   "language": "python",
   "name": "python3"
  },
  "language_info": {
   "codemirror_mode": {
    "name": "ipython",
    "version": 3
   },
   "file_extension": ".py",
   "mimetype": "text/x-python",
   "name": "python",
   "nbconvert_exporter": "python",
   "pygments_lexer": "ipython3",
   "version": "3.12.2"
  }
 },
 "nbformat": 4,
 "nbformat_minor": 2
}
